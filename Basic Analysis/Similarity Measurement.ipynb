{
  "nbformat": 4,
  "nbformat_minor": 0,
  "metadata": {
    "colab": {
      "name": "EECS4412_Task5.ipynb",
      "provenance": [],
      "collapsed_sections": []
    },
    "kernelspec": {
      "name": "python3",
      "display_name": "Python 3"
    },
    "language_info": {
      "name": "python"
    }
  },
  "cells": [
    {
      "cell_type": "code",
      "execution_count": 11,
      "metadata": {
        "colab": {
          "base_uri": "https://localhost:8080/"
        },
        "id": "Dj564tH9Ondi",
        "outputId": "0b62edf1-6d3e-4e2c-9349-535df98bc476"
      },
      "outputs": [
        {
          "output_type": "stream",
          "name": "stdout",
          "text": [
            "Drive already mounted at /content/drive; to attempt to forcibly remount, call drive.mount(\"/content/drive\", force_remount=True).\n",
            "╒══════╤═══════╤═══════╤═══════╤═══════╤═══════╤═══════╤═══════╤═══════╤═══════╤════════╕\n",
            "│      │   eu1 │   eu2 │   eu3 │   eu4 │   eu5 │   eu6 │   eu7 │   eu8 │   eu9 │   eu10 │\n",
            "╞══════╪═══════╪═══════╪═══════╪═══════╪═══════╪═══════╪═══════╪═══════╪═══════╪════════╡\n",
            "│ eu1  │   0   │  13.2 │  13   │  12.1 │  12.2 │  12   │   7.7 │  10.1 │   8.3 │    7   │\n",
            "├──────┼───────┼───────┼───────┼───────┼───────┼───────┼───────┼───────┼───────┼────────┤\n",
            "│ eu2  │  13.2 │   0   │   1   │   1.7 │   1   │   2.5 │   6.2 │   8.7 │   6.6 │    7.3 │\n",
            "├──────┼───────┼───────┼───────┼───────┼───────┼───────┼───────┼───────┼───────┼────────┤\n",
            "│ eu3  │  13   │   1   │   0   │   1.4 │   1.4 │   1.8 │   6.4 │   9   │   7   │    7.6 │\n",
            "├──────┼───────┼───────┼───────┼───────┼───────┼───────┼───────┼───────┼───────┼────────┤\n",
            "│ eu4  │  12.1 │   1.7 │   1.4 │   0   │   1.4 │   1   │   5.4 │   9.1 │   6.6 │    7   │\n",
            "├──────┼───────┼───────┼───────┼───────┼───────┼───────┼───────┼───────┼───────┼────────┤\n",
            "│ eu5  │  12.2 │   1   │   1.4 │   1.4 │   0   │   2.2 │   5.2 │   8.1 │   5.7 │    6.4 │\n",
            "├──────┼───────┼───────┼───────┼───────┼───────┼───────┼───────┼───────┼───────┼────────┤\n",
            "│ eu6  │  12   │   2.5 │   1.8 │   1   │   2.2 │   0   │   5.8 │   9.5 │   7.1 │    7.3 │\n",
            "├──────┼───────┼───────┼───────┼───────┼───────┼───────┼───────┼───────┼───────┼────────┤\n",
            "│ eu7  │   7.7 │   6.2 │   6.4 │   5.4 │   5.2 │   5.8 │   0   │   7.1 │   3.2 │    3.2 │\n",
            "├──────┼───────┼───────┼───────┼───────┼───────┼───────┼───────┼───────┼───────┼────────┤\n",
            "│ eu8  │  10.1 │   8.7 │   9   │   9.1 │   8.1 │   9.5 │   7.1 │   0   │   4   │    4.2 │\n",
            "├──────┼───────┼───────┼───────┼───────┼───────┼───────┼───────┼───────┼───────┼────────┤\n",
            "│ eu9  │   8.3 │   6.6 │   7   │   6.6 │   5.7 │   7.1 │   3.2 │   4   │   0   │    1.4 │\n",
            "├──────┼───────┼───────┼───────┼───────┼───────┼───────┼───────┼───────┼───────┼────────┤\n",
            "│ eu10 │   7   │   7.3 │   7.6 │   7   │   6.4 │   7.3 │   3.2 │   4.2 │   1.4 │    0   │\n",
            "╘══════╧═══════╧═══════╧═══════╧═══════╧═══════╧═══════╧═══════╧═══════╧═══════╧════════╛\n"
          ]
        }
      ],
      "source": [
        "import pandas\n",
        "from google.colab import drive\n",
        "import pandas\n",
        "import matplotlib.pyplot as plt\n",
        "import numpy as np\n",
        "import random\n",
        "from tabulate import tabulate\n",
        "drive.mount('/content/drive')\n",
        "\n",
        "#Task 5 Euclidean distance\n",
        "#players attribute: kpm, okpm, assists, kills, deaths\n",
        "players = pandas.read_csv('/content/drive/My Drive/EECS4412/dataset/wc_players.csv')\n",
        "\n",
        "p_kpm = players['kpm'].values\n",
        "p_okpm = players['okpm'].values\n",
        "p_assists = players['a'].values\n",
        "p_kills = players['k'].values\n",
        "p_deaths = players['d'].values\n",
        "cols=['kpm','okpm','a','k','d']\n",
        "\n",
        "random_index = random.randrange(0,1189)\n",
        "\n",
        "def dist(random_index,from_i,to_i):\n",
        "  eufrom = players.loc[random_index+from_i,cols]\n",
        "  euto = players.loc[random_index+to_i,cols]\n",
        "  return round(np.linalg.norm(eufrom - euto),1)\n",
        "\n",
        "\n",
        "eu_dists = np.zeros((10,10))\n",
        "for i in range(10):\n",
        "  for j in range(10):\n",
        "    eu_dists[i][j] = dist(random_index,i,j)\n",
        "\n",
        "\n",
        "\n",
        "\n",
        "\n",
        "\n",
        "print(tabulate(eu_dists,headers=['eu1','eu2','eu3','eu4','eu5','eu6','eu7','eu8','eu9','eu10'], tablefmt='fancy_grid',showindex = ['eu1','eu2','eu3','eu4','eu5','eu6','eu7','eu8','eu9','eu10']))\n",
        "\n"
      ]
    },
    {
      "cell_type": "code",
      "source": [
        ""
      ],
      "metadata": {
        "id": "1_MZxjj-Rlis"
      },
      "execution_count": null,
      "outputs": []
    }
  ]
}