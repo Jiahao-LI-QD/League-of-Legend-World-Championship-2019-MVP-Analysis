{
  "nbformat": 4,
  "nbformat_minor": 0,
  "metadata": {
    "colab": {
      "name": "4412_phase2_task6.ipynb",
      "provenance": [],
      "collapsed_sections": []
    },
    "kernelspec": {
      "name": "python3",
      "display_name": "Python 3"
    },
    "language_info": {
      "name": "python"
    }
  },
  "cells": [
    {
      "cell_type": "code",
      "execution_count": null,
      "metadata": {
        "id": "WxEPlT7WMtKd",
        "colab": {
          "base_uri": "https://localhost:8080/"
        },
        "outputId": "ef857eae-849b-45a3-cf45-b5a57207703b"
      },
      "outputs": [
        {
          "output_type": "stream",
          "name": "stdout",
          "text": [
            "Mounted at /content/drive\n"
          ]
        }
      ],
      "source": [
        "import pandas\n",
        "from google.colab import drive\n",
        "import pandas\n",
        "import matplotlib.pyplot as plt\n",
        "import numpy as np\n",
        "import random\n",
        "from tabulate import tabulate\n",
        "drive.mount('/content/drive')\n",
        "\n",
        "#Task 6 Mahalanobis distance\n",
        "#players attribute: kpm, okpm, assists, kills, deaths\n",
        "players = pandas.read_csv('/content/drive/MyDrive/4412/wc_players.csv')\n",
        "\n",
        "p_kpm = players['kpm'].values\n",
        "p_okpm = players['okpm'].values\n",
        "p_assists = players['a'].values\n",
        "p_kills = players['k'].values\n",
        "p_deaths = players['d'].values\n",
        "cols=['kpm','okpm','a','k','d']\n",
        "\n",
        "mean = np.array(players[cols].mean(axis=0))\n",
        "x = np.array(players.loc[:,cols]) #samples\n",
        "X = np.vstack(x)\n",
        "XT = X.T\n",
        "\n",
        "S=np.cov(XT)   #cov\n",
        "SI = np.linalg.inv(S) #reverse of cov\n",
        "\n",
        "n=X.shape[0]\n",
        "ma_dists=np.zeros(n)\n",
        "for i in range(0,n):\n",
        "  delta=X[i]-mean\n",
        "  d=np.sqrt(np.dot(np.dot(delta,SI),delta.T))\n",
        "  ma_dists[i] = d\n"
      ]
    },
    {
      "cell_type": "code",
      "source": [
        "# ma_dists is the Mahalanobis for all the objects in players\n",
        "label = pandas.DataFrame(x)\n",
        "distances = pandas.DataFrame(ma_dists)\n",
        "\n",
        "label.columns = cols\n",
        "label['distance'] = distances\n",
        "\n",
        "# based on the describe label the classes\n",
        "\n",
        "df_datas = pandas.DataFrame(x)\n",
        "def label_class (row):\n",
        "  if row['distance'] <= 1.836:\n",
        "    return 'C'\n",
        "  if row['distance'] <= 2.4106:\n",
        "    return 'B'\n",
        "  return 'A'\n",
        "\n",
        "label['performance'] = label.apply (lambda row: label_class(row), axis=1)\n",
        "\n",
        "del label['distance']\n",
        "\n",
        "label.to_csv(\"/content/drive/MyDrive/4412/215632375-216263949-216374324-T6.csv\")"
      ],
      "metadata": {
        "id": "fkw_gB7z7mSg"
      },
      "execution_count": null,
      "outputs": []
    },
    {
      "cell_type": "code",
      "source": [
        "from sklearn.model_selection import train_test_split\n",
        "Xtrain, Xtest, Ytrain, Ytest = train_test_split(label[cols],label.performance, test_size=0.2)\n"
      ],
      "metadata": {
        "id": "qB3qTViN-Aun"
      },
      "execution_count": null,
      "outputs": []
    },
    {
      "cell_type": "code",
      "source": [
        "# decision tree\n",
        "\n",
        "from sklearn import tree\n",
        "\n",
        "clf = tree.DecisionTreeClassifier(criterion='gini')\n",
        "clf = clf.fit(Xtrain, Ytrain)\n",
        "score = clf.score(Xtest, Ytest)\n",
        "# the accuracy\n",
        "print(\"accuracy:\" + str(score))\n",
        "print(\"depth of the tree:\" + str(clf.get_depth()))\n",
        "print(\"the number of leaves:\" + str(clf.get_n_leaves()))\n"
      ],
      "metadata": {
        "colab": {
          "base_uri": "https://localhost:8080/"
        },
        "id": "UTDolCccZBY2",
        "outputId": "dcfb6cd7-0c8d-4500-ee02-ef7df8bac7de"
      },
      "execution_count": null,
      "outputs": [
        {
          "output_type": "stream",
          "name": "stdout",
          "text": [
            "accuracy:0.7899159663865546\n",
            "depth of the tree:19\n",
            "the number of leaves:154\n"
          ]
        }
      ]
    },
    {
      "cell_type": "code",
      "source": [
        "import graphviz\n",
        "\n",
        "dot_data = tree.export_graphviz(clf\n",
        "                ,feature_names= cols\n",
        "                ,max_depth=3\n",
        "                ,class_names=[\"A\",\"B\",\"C\"]\n",
        "                ,filled=True\n",
        "                ,rounded=True\n",
        "                ,out_file=None\n",
        "          )\n",
        "graph = graphviz.Source(dot_data)\n",
        "graph"
      ],
      "metadata": {
        "colab": {
          "base_uri": "https://localhost:8080/",
          "height": 735
        },
        "id": "wWdIcr3wT1Kg",
        "outputId": "2b05ff01-6636-40ba-c967-51a0785636bd"
      },
      "execution_count": null,
      "outputs": [
        {
          "output_type": "execute_result",
          "data": {
            "text/plain": [
              "<graphviz.files.Source at 0x7f4a12f0ce50>"
            ],
            "image/svg+xml": "<?xml version=\"1.0\" encoding=\"UTF-8\" standalone=\"no\"?>\n<!DOCTYPE svg PUBLIC \"-//W3C//DTD SVG 1.1//EN\"\n \"http://www.w3.org/Graphics/SVG/1.1/DTD/svg11.dtd\">\n<!-- Generated by graphviz version 2.40.1 (20161225.0304)\n -->\n<!-- Title: Tree Pages: 1 -->\n<svg width=\"903pt\" height=\"520pt\"\n viewBox=\"0.00 0.00 902.50 520.00\" xmlns=\"http://www.w3.org/2000/svg\" xmlns:xlink=\"http://www.w3.org/1999/xlink\">\n<g id=\"graph0\" class=\"graph\" transform=\"scale(1 1) rotate(0) translate(4 516)\">\n<title>Tree</title>\n<polygon fill=\"#ffffff\" stroke=\"transparent\" points=\"-4,4 -4,-516 898.5,-516 898.5,4 -4,4\"/>\n<!-- 0 -->\n<g id=\"node1\" class=\"node\">\n<title>0</title>\n<path fill=\"#d5bdf6\" stroke=\"#000000\" d=\"M675,-512C675,-512 535,-512 535,-512 529,-512 523,-506 523,-500 523,-500 523,-441 523,-441 523,-435 529,-429 535,-429 535,-429 675,-429 675,-429 681,-429 687,-435 687,-441 687,-441 687,-500 687,-500 687,-506 681,-512 675,-512\"/>\n<text text-anchor=\"middle\" x=\"605\" y=\"-496.8\" font-family=\"Helvetica,sans-Serif\" font-size=\"14.00\" fill=\"#000000\">k &lt;= 5.5</text>\n<text text-anchor=\"middle\" x=\"605\" y=\"-481.8\" font-family=\"Helvetica,sans-Serif\" font-size=\"14.00\" fill=\"#000000\">gini = 0.624</text>\n<text text-anchor=\"middle\" x=\"605\" y=\"-466.8\" font-family=\"Helvetica,sans-Serif\" font-size=\"14.00\" fill=\"#000000\">samples = 952</text>\n<text text-anchor=\"middle\" x=\"605\" y=\"-451.8\" font-family=\"Helvetica,sans-Serif\" font-size=\"14.00\" fill=\"#000000\">value = [233, 241, 478]</text>\n<text text-anchor=\"middle\" x=\"605\" y=\"-436.8\" font-family=\"Helvetica,sans-Serif\" font-size=\"14.00\" fill=\"#000000\">class = C</text>\n</g>\n<!-- 1 -->\n<g id=\"node2\" class=\"node\">\n<title>1</title>\n<path fill=\"#caacf4\" stroke=\"#000000\" d=\"M534,-393C534,-393 394,-393 394,-393 388,-393 382,-387 382,-381 382,-381 382,-322 382,-322 382,-316 388,-310 394,-310 394,-310 534,-310 534,-310 540,-310 546,-316 546,-322 546,-322 546,-381 546,-381 546,-387 540,-393 534,-393\"/>\n<text text-anchor=\"middle\" x=\"464\" y=\"-377.8\" font-family=\"Helvetica,sans-Serif\" font-size=\"14.00\" fill=\"#000000\">okpm &lt;= 0.187</text>\n<text text-anchor=\"middle\" x=\"464\" y=\"-362.8\" font-family=\"Helvetica,sans-Serif\" font-size=\"14.00\" fill=\"#000000\">gini = 0.582</text>\n<text text-anchor=\"middle\" x=\"464\" y=\"-347.8\" font-family=\"Helvetica,sans-Serif\" font-size=\"14.00\" fill=\"#000000\">samples = 842</text>\n<text text-anchor=\"middle\" x=\"464\" y=\"-332.8\" font-family=\"Helvetica,sans-Serif\" font-size=\"14.00\" fill=\"#000000\">value = [149, 216, 477]</text>\n<text text-anchor=\"middle\" x=\"464\" y=\"-317.8\" font-family=\"Helvetica,sans-Serif\" font-size=\"14.00\" fill=\"#000000\">class = C</text>\n</g>\n<!-- 0&#45;&gt;1 -->\n<g id=\"edge1\" class=\"edge\">\n<title>0&#45;&gt;1</title>\n<path fill=\"none\" stroke=\"#000000\" d=\"M555.685,-428.8796C544.5868,-419.513 532.7165,-409.4948 521.3223,-399.8784\"/>\n<polygon fill=\"#000000\" stroke=\"#000000\" points=\"523.425,-397.0731 513.5254,-393.2981 518.9101,-402.4225 523.425,-397.0731\"/>\n<text text-anchor=\"middle\" x=\"515.6333\" y=\"-414.5091\" font-family=\"Helvetica,sans-Serif\" font-size=\"14.00\" fill=\"#000000\">True</text>\n</g>\n<!-- 266 -->\n<g id=\"node15\" class=\"node\">\n<title>266</title>\n<path fill=\"#eda876\" stroke=\"#000000\" d=\"M741.5,-393C741.5,-393 634.5,-393 634.5,-393 628.5,-393 622.5,-387 622.5,-381 622.5,-381 622.5,-322 622.5,-322 622.5,-316 628.5,-310 634.5,-310 634.5,-310 741.5,-310 741.5,-310 747.5,-310 753.5,-316 753.5,-322 753.5,-322 753.5,-381 753.5,-381 753.5,-387 747.5,-393 741.5,-393\"/>\n<text text-anchor=\"middle\" x=\"688\" y=\"-377.8\" font-family=\"Helvetica,sans-Serif\" font-size=\"14.00\" fill=\"#000000\">k &lt;= 7.5</text>\n<text text-anchor=\"middle\" x=\"688\" y=\"-362.8\" font-family=\"Helvetica,sans-Serif\" font-size=\"14.00\" fill=\"#000000\">gini = 0.365</text>\n<text text-anchor=\"middle\" x=\"688\" y=\"-347.8\" font-family=\"Helvetica,sans-Serif\" font-size=\"14.00\" fill=\"#000000\">samples = 110</text>\n<text text-anchor=\"middle\" x=\"688\" y=\"-332.8\" font-family=\"Helvetica,sans-Serif\" font-size=\"14.00\" fill=\"#000000\">value = [84, 25, 1]</text>\n<text text-anchor=\"middle\" x=\"688\" y=\"-317.8\" font-family=\"Helvetica,sans-Serif\" font-size=\"14.00\" fill=\"#000000\">class = A</text>\n</g>\n<!-- 0&#45;&gt;266 -->\n<g id=\"edge14\" class=\"edge\">\n<title>0&#45;&gt;266</title>\n<path fill=\"none\" stroke=\"#000000\" d=\"M634.0294,-428.8796C640.1855,-420.0534 646.7451,-410.6485 653.0936,-401.5466\"/>\n<polygon fill=\"#000000\" stroke=\"#000000\" points=\"655.9967,-403.5024 658.8467,-393.2981 650.2552,-399.4978 655.9967,-403.5024\"/>\n<text text-anchor=\"middle\" x=\"663.2331\" y=\"-414.2103\" font-family=\"Helvetica,sans-Serif\" font-size=\"14.00\" fill=\"#000000\">False</text>\n</g>\n<!-- 2 -->\n<g id=\"node3\" class=\"node\">\n<title>2</title>\n<path fill=\"#c19df2\" stroke=\"#000000\" d=\"M310,-274C310,-274 178,-274 178,-274 172,-274 166,-268 166,-262 166,-262 166,-203 166,-203 166,-197 172,-191 178,-191 178,-191 310,-191 310,-191 316,-191 322,-197 322,-203 322,-203 322,-262 322,-262 322,-268 316,-274 310,-274\"/>\n<text text-anchor=\"middle\" x=\"244\" y=\"-258.8\" font-family=\"Helvetica,sans-Serif\" font-size=\"14.00\" fill=\"#000000\">a &lt;= 10.5</text>\n<text text-anchor=\"middle\" x=\"244\" y=\"-243.8\" font-family=\"Helvetica,sans-Serif\" font-size=\"14.00\" fill=\"#000000\">gini = 0.529</text>\n<text text-anchor=\"middle\" x=\"244\" y=\"-228.8\" font-family=\"Helvetica,sans-Serif\" font-size=\"14.00\" fill=\"#000000\">samples = 763</text>\n<text text-anchor=\"middle\" x=\"244\" y=\"-213.8\" font-family=\"Helvetica,sans-Serif\" font-size=\"14.00\" fill=\"#000000\">value = [88, 198, 477]</text>\n<text text-anchor=\"middle\" x=\"244\" y=\"-198.8\" font-family=\"Helvetica,sans-Serif\" font-size=\"14.00\" fill=\"#000000\">class = C</text>\n</g>\n<!-- 1&#45;&gt;2 -->\n<g id=\"edge2\" class=\"edge\">\n<title>1&#45;&gt;2</title>\n<path fill=\"none\" stroke=\"#000000\" d=\"M387.0547,-309.8796C368.5491,-299.8697 348.6675,-289.1156 329.7873,-278.9031\"/>\n<polygon fill=\"#000000\" stroke=\"#000000\" points=\"331.3628,-275.7762 320.9019,-274.0969 328.0324,-281.9332 331.3628,-275.7762\"/>\n</g>\n<!-- 249 -->\n<g id=\"node10\" class=\"node\">\n<title>249</title>\n<path fill=\"#eda673\" stroke=\"#000000\" d=\"M517.5,-274C517.5,-274 410.5,-274 410.5,-274 404.5,-274 398.5,-268 398.5,-262 398.5,-262 398.5,-203 398.5,-203 398.5,-197 404.5,-191 410.5,-191 410.5,-191 517.5,-191 517.5,-191 523.5,-191 529.5,-197 529.5,-203 529.5,-203 529.5,-262 529.5,-262 529.5,-268 523.5,-274 517.5,-274\"/>\n<text text-anchor=\"middle\" x=\"464\" y=\"-258.8\" font-family=\"Helvetica,sans-Serif\" font-size=\"14.00\" fill=\"#000000\">okpm &lt;= 0.243</text>\n<text text-anchor=\"middle\" x=\"464\" y=\"-243.8\" font-family=\"Helvetica,sans-Serif\" font-size=\"14.00\" fill=\"#000000\">gini = 0.352</text>\n<text text-anchor=\"middle\" x=\"464\" y=\"-228.8\" font-family=\"Helvetica,sans-Serif\" font-size=\"14.00\" fill=\"#000000\">samples = 79</text>\n<text text-anchor=\"middle\" x=\"464\" y=\"-213.8\" font-family=\"Helvetica,sans-Serif\" font-size=\"14.00\" fill=\"#000000\">value = [61, 18, 0]</text>\n<text text-anchor=\"middle\" x=\"464\" y=\"-198.8\" font-family=\"Helvetica,sans-Serif\" font-size=\"14.00\" fill=\"#000000\">class = A</text>\n</g>\n<!-- 1&#45;&gt;249 -->\n<g id=\"edge9\" class=\"edge\">\n<title>1&#45;&gt;249</title>\n<path fill=\"none\" stroke=\"#000000\" d=\"M464,-309.8796C464,-301.6838 464,-292.9891 464,-284.5013\"/>\n<polygon fill=\"#000000\" stroke=\"#000000\" points=\"467.5001,-284.298 464,-274.2981 460.5001,-284.2981 467.5001,-284.298\"/>\n</g>\n<!-- 3 -->\n<g id=\"node4\" class=\"node\">\n<title>3</title>\n<path fill=\"#b388ef\" stroke=\"#000000\" d=\"M144,-155C144,-155 12,-155 12,-155 6,-155 0,-149 0,-143 0,-143 0,-84 0,-84 0,-78 6,-72 12,-72 12,-72 144,-72 144,-72 150,-72 156,-78 156,-84 156,-84 156,-143 156,-143 156,-149 150,-155 144,-155\"/>\n<text text-anchor=\"middle\" x=\"78\" y=\"-139.8\" font-family=\"Helvetica,sans-Serif\" font-size=\"14.00\" fill=\"#000000\">d &lt;= 4.5</text>\n<text text-anchor=\"middle\" x=\"78\" y=\"-124.8\" font-family=\"Helvetica,sans-Serif\" font-size=\"14.00\" fill=\"#000000\">gini = 0.451</text>\n<text text-anchor=\"middle\" x=\"78\" y=\"-109.8\" font-family=\"Helvetica,sans-Serif\" font-size=\"14.00\" fill=\"#000000\">samples = 665</text>\n<text text-anchor=\"middle\" x=\"78\" y=\"-94.8\" font-family=\"Helvetica,sans-Serif\" font-size=\"14.00\" fill=\"#000000\">value = [41, 160, 464]</text>\n<text text-anchor=\"middle\" x=\"78\" y=\"-79.8\" font-family=\"Helvetica,sans-Serif\" font-size=\"14.00\" fill=\"#000000\">class = C</text>\n</g>\n<!-- 2&#45;&gt;3 -->\n<g id=\"edge3\" class=\"edge\">\n<title>2&#45;&gt;3</title>\n<path fill=\"none\" stroke=\"#000000\" d=\"M185.9413,-190.8796C172.5466,-181.2774 158.1965,-170.9903 144.4745,-161.1534\"/>\n<polygon fill=\"#000000\" stroke=\"#000000\" points=\"146.1926,-158.0786 136.026,-155.0969 142.1142,-163.7678 146.1926,-158.0786\"/>\n</g>\n<!-- 198 -->\n<g id=\"node7\" class=\"node\">\n<title>198</title>\n<path fill=\"#fbece1\" stroke=\"#000000\" d=\"M302,-155C302,-155 186,-155 186,-155 180,-155 174,-149 174,-143 174,-143 174,-84 174,-84 174,-78 180,-72 186,-72 186,-72 302,-72 302,-72 308,-72 314,-78 314,-84 314,-84 314,-143 314,-143 314,-149 308,-155 302,-155\"/>\n<text text-anchor=\"middle\" x=\"244\" y=\"-139.8\" font-family=\"Helvetica,sans-Serif\" font-size=\"14.00\" fill=\"#000000\">a &lt;= 13.5</text>\n<text text-anchor=\"middle\" x=\"244\" y=\"-124.8\" font-family=\"Helvetica,sans-Serif\" font-size=\"14.00\" fill=\"#000000\">gini = 0.602</text>\n<text text-anchor=\"middle\" x=\"244\" y=\"-109.8\" font-family=\"Helvetica,sans-Serif\" font-size=\"14.00\" fill=\"#000000\">samples = 98</text>\n<text text-anchor=\"middle\" x=\"244\" y=\"-94.8\" font-family=\"Helvetica,sans-Serif\" font-size=\"14.00\" fill=\"#000000\">value = [47, 38, 13]</text>\n<text text-anchor=\"middle\" x=\"244\" y=\"-79.8\" font-family=\"Helvetica,sans-Serif\" font-size=\"14.00\" fill=\"#000000\">class = A</text>\n</g>\n<!-- 2&#45;&gt;198 -->\n<g id=\"edge6\" class=\"edge\">\n<title>2&#45;&gt;198</title>\n<path fill=\"none\" stroke=\"#000000\" d=\"M244,-190.8796C244,-182.6838 244,-173.9891 244,-165.5013\"/>\n<polygon fill=\"#000000\" stroke=\"#000000\" points=\"247.5001,-165.298 244,-155.2981 240.5001,-165.2981 247.5001,-165.298\"/>\n</g>\n<!-- 4 -->\n<g id=\"node5\" class=\"node\">\n<title>4</title>\n<path fill=\"#c0c0c0\" stroke=\"#000000\" d=\"M57,-36C57,-36 27,-36 27,-36 21,-36 15,-30 15,-24 15,-24 15,-12 15,-12 15,-6 21,0 27,0 27,0 57,0 57,0 63,0 69,-6 69,-12 69,-12 69,-24 69,-24 69,-30 63,-36 57,-36\"/>\n<text text-anchor=\"middle\" x=\"42\" y=\"-14.3\" font-family=\"Helvetica,sans-Serif\" font-size=\"14.00\" fill=\"#000000\">(...)</text>\n</g>\n<!-- 3&#45;&gt;4 -->\n<g id=\"edge4\" class=\"edge\">\n<title>3&#45;&gt;4</title>\n<path fill=\"none\" stroke=\"#000000\" d=\"M62.3146,-71.8901C58.9739,-63.0279 55.525,-53.8788 52.4386,-45.6913\"/>\n<polygon fill=\"#000000\" stroke=\"#000000\" points=\"55.6877,-44.3878 48.8853,-36.2651 49.1376,-46.8569 55.6877,-44.3878\"/>\n</g>\n<!-- 165 -->\n<g id=\"node6\" class=\"node\">\n<title>165</title>\n<path fill=\"#c0c0c0\" stroke=\"#000000\" d=\"M129,-36C129,-36 99,-36 99,-36 93,-36 87,-30 87,-24 87,-24 87,-12 87,-12 87,-6 93,0 99,0 99,0 129,0 129,0 135,0 141,-6 141,-12 141,-12 141,-24 141,-24 141,-30 135,-36 129,-36\"/>\n<text text-anchor=\"middle\" x=\"114\" y=\"-14.3\" font-family=\"Helvetica,sans-Serif\" font-size=\"14.00\" fill=\"#000000\">(...)</text>\n</g>\n<!-- 3&#45;&gt;165 -->\n<g id=\"edge5\" class=\"edge\">\n<title>3&#45;&gt;165</title>\n<path fill=\"none\" stroke=\"#000000\" d=\"M93.6854,-71.8901C97.0261,-63.0279 100.475,-53.8788 103.5614,-45.6913\"/>\n<polygon fill=\"#000000\" stroke=\"#000000\" points=\"106.8624,-46.8569 107.1147,-36.2651 100.3123,-44.3878 106.8624,-46.8569\"/>\n</g>\n<!-- 199 -->\n<g id=\"node8\" class=\"node\">\n<title>199</title>\n<path fill=\"#c0c0c0\" stroke=\"#000000\" d=\"M230,-36C230,-36 200,-36 200,-36 194,-36 188,-30 188,-24 188,-24 188,-12 188,-12 188,-6 194,0 200,0 200,0 230,0 230,0 236,0 242,-6 242,-12 242,-12 242,-24 242,-24 242,-30 236,-36 230,-36\"/>\n<text text-anchor=\"middle\" x=\"215\" y=\"-14.3\" font-family=\"Helvetica,sans-Serif\" font-size=\"14.00\" fill=\"#000000\">(...)</text>\n</g>\n<!-- 198&#45;&gt;199 -->\n<g id=\"edge7\" class=\"edge\">\n<title>198&#45;&gt;199</title>\n<path fill=\"none\" stroke=\"#000000\" d=\"M231.3645,-71.8901C228.703,-63.1253 225.9562,-54.0798 223.4909,-45.9615\"/>\n<polygon fill=\"#000000\" stroke=\"#000000\" points=\"226.8012,-44.8167 220.5465,-36.2651 220.1032,-46.8507 226.8012,-44.8167\"/>\n</g>\n<!-- 248 -->\n<g id=\"node9\" class=\"node\">\n<title>248</title>\n<path fill=\"#c0c0c0\" stroke=\"#000000\" d=\"M302,-36C302,-36 272,-36 272,-36 266,-36 260,-30 260,-24 260,-24 260,-12 260,-12 260,-6 266,0 272,0 272,0 302,0 302,0 308,0 314,-6 314,-12 314,-12 314,-24 314,-24 314,-30 308,-36 302,-36\"/>\n<text text-anchor=\"middle\" x=\"287\" y=\"-14.3\" font-family=\"Helvetica,sans-Serif\" font-size=\"14.00\" fill=\"#000000\">(...)</text>\n</g>\n<!-- 198&#45;&gt;248 -->\n<g id=\"edge8\" class=\"edge\">\n<title>198&#45;&gt;248</title>\n<path fill=\"none\" stroke=\"#000000\" d=\"M262.7353,-71.8901C266.7695,-62.9305 270.9357,-53.6777 274.6531,-45.4217\"/>\n<polygon fill=\"#000000\" stroke=\"#000000\" points=\"277.8616,-46.8204 278.7759,-36.2651 271.4788,-43.9464 277.8616,-46.8204\"/>\n</g>\n<!-- 250 -->\n<g id=\"node11\" class=\"node\">\n<title>250</title>\n<path fill=\"#e9fcf1\" stroke=\"#000000\" d=\"M451.5,-155C451.5,-155 344.5,-155 344.5,-155 338.5,-155 332.5,-149 332.5,-143 332.5,-143 332.5,-84 332.5,-84 332.5,-78 338.5,-72 344.5,-72 344.5,-72 451.5,-72 451.5,-72 457.5,-72 463.5,-78 463.5,-84 463.5,-84 463.5,-143 463.5,-143 463.5,-149 457.5,-155 451.5,-155\"/>\n<text text-anchor=\"middle\" x=\"398\" y=\"-139.8\" font-family=\"Helvetica,sans-Serif\" font-size=\"14.00\" fill=\"#000000\">a &lt;= 5.5</text>\n<text text-anchor=\"middle\" x=\"398\" y=\"-124.8\" font-family=\"Helvetica,sans-Serif\" font-size=\"14.00\" fill=\"#000000\">gini = 0.498</text>\n<text text-anchor=\"middle\" x=\"398\" y=\"-109.8\" font-family=\"Helvetica,sans-Serif\" font-size=\"14.00\" fill=\"#000000\">samples = 34</text>\n<text text-anchor=\"middle\" x=\"398\" y=\"-94.8\" font-family=\"Helvetica,sans-Serif\" font-size=\"14.00\" fill=\"#000000\">value = [16, 18, 0]</text>\n<text text-anchor=\"middle\" x=\"398\" y=\"-79.8\" font-family=\"Helvetica,sans-Serif\" font-size=\"14.00\" fill=\"#000000\">class = B</text>\n</g>\n<!-- 249&#45;&gt;250 -->\n<g id=\"edge10\" class=\"edge\">\n<title>249&#45;&gt;250</title>\n<path fill=\"none\" stroke=\"#000000\" d=\"M440.9164,-190.8796C436.1211,-182.2335 431.0178,-173.0322 426.0662,-164.1042\"/>\n<polygon fill=\"#000000\" stroke=\"#000000\" points=\"429.0931,-162.3455 421.1821,-155.2981 422.9716,-165.7407 429.0931,-162.3455\"/>\n</g>\n<!-- 265 -->\n<g id=\"node14\" class=\"node\">\n<title>265</title>\n<path fill=\"#e58139\" stroke=\"#000000\" d=\"M592.5,-147.5C592.5,-147.5 493.5,-147.5 493.5,-147.5 487.5,-147.5 481.5,-141.5 481.5,-135.5 481.5,-135.5 481.5,-91.5 481.5,-91.5 481.5,-85.5 487.5,-79.5 493.5,-79.5 493.5,-79.5 592.5,-79.5 592.5,-79.5 598.5,-79.5 604.5,-85.5 604.5,-91.5 604.5,-91.5 604.5,-135.5 604.5,-135.5 604.5,-141.5 598.5,-147.5 592.5,-147.5\"/>\n<text text-anchor=\"middle\" x=\"543\" y=\"-132.3\" font-family=\"Helvetica,sans-Serif\" font-size=\"14.00\" fill=\"#000000\">gini = 0.0</text>\n<text text-anchor=\"middle\" x=\"543\" y=\"-117.3\" font-family=\"Helvetica,sans-Serif\" font-size=\"14.00\" fill=\"#000000\">samples = 45</text>\n<text text-anchor=\"middle\" x=\"543\" y=\"-102.3\" font-family=\"Helvetica,sans-Serif\" font-size=\"14.00\" fill=\"#000000\">value = [45, 0, 0]</text>\n<text text-anchor=\"middle\" x=\"543\" y=\"-87.3\" font-family=\"Helvetica,sans-Serif\" font-size=\"14.00\" fill=\"#000000\">class = A</text>\n</g>\n<!-- 249&#45;&gt;265 -->\n<g id=\"edge13\" class=\"edge\">\n<title>249&#45;&gt;265</title>\n<path fill=\"none\" stroke=\"#000000\" d=\"M491.6304,-190.8796C499.0763,-179.6636 507.1425,-167.5131 514.6282,-156.2372\"/>\n<polygon fill=\"#000000\" stroke=\"#000000\" points=\"517.6046,-158.082 520.2195,-147.8149 511.7727,-154.2104 517.6046,-158.082\"/>\n</g>\n<!-- 251 -->\n<g id=\"node12\" class=\"node\">\n<title>251</title>\n<path fill=\"#c0c0c0\" stroke=\"#000000\" d=\"M394,-36C394,-36 364,-36 364,-36 358,-36 352,-30 352,-24 352,-24 352,-12 352,-12 352,-6 358,0 364,0 364,0 394,0 394,0 400,0 406,-6 406,-12 406,-12 406,-24 406,-24 406,-30 400,-36 394,-36\"/>\n<text text-anchor=\"middle\" x=\"379\" y=\"-14.3\" font-family=\"Helvetica,sans-Serif\" font-size=\"14.00\" fill=\"#000000\">(...)</text>\n</g>\n<!-- 250&#45;&gt;251 -->\n<g id=\"edge11\" class=\"edge\">\n<title>250&#45;&gt;251</title>\n<path fill=\"none\" stroke=\"#000000\" d=\"M389.7216,-71.8901C387.9972,-63.2227 386.2182,-54.2808 384.6169,-46.2325\"/>\n<polygon fill=\"#000000\" stroke=\"#000000\" points=\"388.018,-45.3899 382.6339,-36.2651 381.1525,-46.7559 388.018,-45.3899\"/>\n</g>\n<!-- 260 -->\n<g id=\"node13\" class=\"node\">\n<title>260</title>\n<path fill=\"#c0c0c0\" stroke=\"#000000\" d=\"M466,-36C466,-36 436,-36 436,-36 430,-36 424,-30 424,-24 424,-24 424,-12 424,-12 424,-6 430,0 436,0 436,0 466,0 466,0 472,0 478,-6 478,-12 478,-12 478,-24 478,-24 478,-30 472,-36 466,-36\"/>\n<text text-anchor=\"middle\" x=\"451\" y=\"-14.3\" font-family=\"Helvetica,sans-Serif\" font-size=\"14.00\" fill=\"#000000\">(...)</text>\n</g>\n<!-- 250&#45;&gt;260 -->\n<g id=\"edge12\" class=\"edge\">\n<title>250&#45;&gt;260</title>\n<path fill=\"none\" stroke=\"#000000\" d=\"M421.0924,-71.8901C426.1188,-62.8331 431.3115,-53.4765 435.9309,-45.1528\"/>\n<polygon fill=\"#000000\" stroke=\"#000000\" points=\"439.0711,-46.7073 440.8633,-36.2651 432.9504,-43.3104 439.0711,-46.7073\"/>\n</g>\n<!-- 267 -->\n<g id=\"node16\" class=\"node\">\n<title>267</title>\n<path fill=\"#f5cfb4\" stroke=\"#000000\" d=\"M741.5,-274C741.5,-274 634.5,-274 634.5,-274 628.5,-274 622.5,-268 622.5,-262 622.5,-262 622.5,-203 622.5,-203 622.5,-197 628.5,-191 634.5,-191 634.5,-191 741.5,-191 741.5,-191 747.5,-191 753.5,-197 753.5,-203 753.5,-203 753.5,-262 753.5,-262 753.5,-268 747.5,-274 741.5,-274\"/>\n<text text-anchor=\"middle\" x=\"688\" y=\"-258.8\" font-family=\"Helvetica,sans-Serif\" font-size=\"14.00\" fill=\"#000000\">kpm &lt;= 0.242</text>\n<text text-anchor=\"middle\" x=\"688\" y=\"-243.8\" font-family=\"Helvetica,sans-Serif\" font-size=\"14.00\" fill=\"#000000\">gini = 0.486</text>\n<text text-anchor=\"middle\" x=\"688\" y=\"-228.8\" font-family=\"Helvetica,sans-Serif\" font-size=\"14.00\" fill=\"#000000\">samples = 67</text>\n<text text-anchor=\"middle\" x=\"688\" y=\"-213.8\" font-family=\"Helvetica,sans-Serif\" font-size=\"14.00\" fill=\"#000000\">value = [41, 25, 1]</text>\n<text text-anchor=\"middle\" x=\"688\" y=\"-198.8\" font-family=\"Helvetica,sans-Serif\" font-size=\"14.00\" fill=\"#000000\">class = A</text>\n</g>\n<!-- 266&#45;&gt;267 -->\n<g id=\"edge15\" class=\"edge\">\n<title>266&#45;&gt;267</title>\n<path fill=\"none\" stroke=\"#000000\" d=\"M688,-309.8796C688,-301.6838 688,-292.9891 688,-284.5013\"/>\n<polygon fill=\"#000000\" stroke=\"#000000\" points=\"691.5001,-284.298 688,-274.2981 684.5001,-284.2981 691.5001,-284.298\"/>\n</g>\n<!-- 306 -->\n<g id=\"node21\" class=\"node\">\n<title>306</title>\n<path fill=\"#e58139\" stroke=\"#000000\" d=\"M882.5,-266.5C882.5,-266.5 783.5,-266.5 783.5,-266.5 777.5,-266.5 771.5,-260.5 771.5,-254.5 771.5,-254.5 771.5,-210.5 771.5,-210.5 771.5,-204.5 777.5,-198.5 783.5,-198.5 783.5,-198.5 882.5,-198.5 882.5,-198.5 888.5,-198.5 894.5,-204.5 894.5,-210.5 894.5,-210.5 894.5,-254.5 894.5,-254.5 894.5,-260.5 888.5,-266.5 882.5,-266.5\"/>\n<text text-anchor=\"middle\" x=\"833\" y=\"-251.3\" font-family=\"Helvetica,sans-Serif\" font-size=\"14.00\" fill=\"#000000\">gini = 0.0</text>\n<text text-anchor=\"middle\" x=\"833\" y=\"-236.3\" font-family=\"Helvetica,sans-Serif\" font-size=\"14.00\" fill=\"#000000\">samples = 43</text>\n<text text-anchor=\"middle\" x=\"833\" y=\"-221.3\" font-family=\"Helvetica,sans-Serif\" font-size=\"14.00\" fill=\"#000000\">value = [43, 0, 0]</text>\n<text text-anchor=\"middle\" x=\"833\" y=\"-206.3\" font-family=\"Helvetica,sans-Serif\" font-size=\"14.00\" fill=\"#000000\">class = A</text>\n</g>\n<!-- 266&#45;&gt;306 -->\n<g id=\"edge20\" class=\"edge\">\n<title>266&#45;&gt;306</title>\n<path fill=\"none\" stroke=\"#000000\" d=\"M738.714,-309.8796C753.1844,-298.0038 768.9314,-285.0804 783.3383,-273.2568\"/>\n<polygon fill=\"#000000\" stroke=\"#000000\" points=\"785.678,-275.8645 791.1877,-266.8149 781.2372,-270.4534 785.678,-275.8645\"/>\n</g>\n<!-- 268 -->\n<g id=\"node17\" class=\"node\">\n<title>268</title>\n<path fill=\"#fae7da\" stroke=\"#000000\" d=\"M741.5,-155C741.5,-155 634.5,-155 634.5,-155 628.5,-155 622.5,-149 622.5,-143 622.5,-143 622.5,-84 622.5,-84 622.5,-78 628.5,-72 634.5,-72 634.5,-72 741.5,-72 741.5,-72 747.5,-72 753.5,-78 753.5,-84 753.5,-84 753.5,-143 753.5,-143 753.5,-149 747.5,-155 741.5,-155\"/>\n<text text-anchor=\"middle\" x=\"688\" y=\"-139.8\" font-family=\"Helvetica,sans-Serif\" font-size=\"14.00\" fill=\"#000000\">d &lt;= 4.5</text>\n<text text-anchor=\"middle\" x=\"688\" y=\"-124.8\" font-family=\"Helvetica,sans-Serif\" font-size=\"14.00\" fill=\"#000000\">gini = 0.512</text>\n<text text-anchor=\"middle\" x=\"688\" y=\"-109.8\" font-family=\"Helvetica,sans-Serif\" font-size=\"14.00\" fill=\"#000000\">samples = 57</text>\n<text text-anchor=\"middle\" x=\"688\" y=\"-94.8\" font-family=\"Helvetica,sans-Serif\" font-size=\"14.00\" fill=\"#000000\">value = [31, 25, 1]</text>\n<text text-anchor=\"middle\" x=\"688\" y=\"-79.8\" font-family=\"Helvetica,sans-Serif\" font-size=\"14.00\" fill=\"#000000\">class = A</text>\n</g>\n<!-- 267&#45;&gt;268 -->\n<g id=\"edge16\" class=\"edge\">\n<title>267&#45;&gt;268</title>\n<path fill=\"none\" stroke=\"#000000\" d=\"M688,-190.8796C688,-182.6838 688,-173.9891 688,-165.5013\"/>\n<polygon fill=\"#000000\" stroke=\"#000000\" points=\"691.5001,-165.298 688,-155.2981 684.5001,-165.2981 691.5001,-165.298\"/>\n</g>\n<!-- 305 -->\n<g id=\"node20\" class=\"node\">\n<title>305</title>\n<path fill=\"#e58139\" stroke=\"#000000\" d=\"M882.5,-147.5C882.5,-147.5 783.5,-147.5 783.5,-147.5 777.5,-147.5 771.5,-141.5 771.5,-135.5 771.5,-135.5 771.5,-91.5 771.5,-91.5 771.5,-85.5 777.5,-79.5 783.5,-79.5 783.5,-79.5 882.5,-79.5 882.5,-79.5 888.5,-79.5 894.5,-85.5 894.5,-91.5 894.5,-91.5 894.5,-135.5 894.5,-135.5 894.5,-141.5 888.5,-147.5 882.5,-147.5\"/>\n<text text-anchor=\"middle\" x=\"833\" y=\"-132.3\" font-family=\"Helvetica,sans-Serif\" font-size=\"14.00\" fill=\"#000000\">gini = 0.0</text>\n<text text-anchor=\"middle\" x=\"833\" y=\"-117.3\" font-family=\"Helvetica,sans-Serif\" font-size=\"14.00\" fill=\"#000000\">samples = 10</text>\n<text text-anchor=\"middle\" x=\"833\" y=\"-102.3\" font-family=\"Helvetica,sans-Serif\" font-size=\"14.00\" fill=\"#000000\">value = [10, 0, 0]</text>\n<text text-anchor=\"middle\" x=\"833\" y=\"-87.3\" font-family=\"Helvetica,sans-Serif\" font-size=\"14.00\" fill=\"#000000\">class = A</text>\n</g>\n<!-- 267&#45;&gt;305 -->\n<g id=\"edge19\" class=\"edge\">\n<title>267&#45;&gt;305</title>\n<path fill=\"none\" stroke=\"#000000\" d=\"M738.714,-190.8796C753.1844,-179.0038 768.9314,-166.0804 783.3383,-154.2568\"/>\n<polygon fill=\"#000000\" stroke=\"#000000\" points=\"785.678,-156.8645 791.1877,-147.8149 781.2372,-151.4534 785.678,-156.8645\"/>\n</g>\n<!-- 269 -->\n<g id=\"node18\" class=\"node\">\n<title>269</title>\n<path fill=\"#c0c0c0\" stroke=\"#000000\" d=\"M667,-36C667,-36 637,-36 637,-36 631,-36 625,-30 625,-24 625,-24 625,-12 625,-12 625,-6 631,0 637,0 637,0 667,0 667,0 673,0 679,-6 679,-12 679,-12 679,-24 679,-24 679,-30 673,-36 667,-36\"/>\n<text text-anchor=\"middle\" x=\"652\" y=\"-14.3\" font-family=\"Helvetica,sans-Serif\" font-size=\"14.00\" fill=\"#000000\">(...)</text>\n</g>\n<!-- 268&#45;&gt;269 -->\n<g id=\"edge17\" class=\"edge\">\n<title>268&#45;&gt;269</title>\n<path fill=\"none\" stroke=\"#000000\" d=\"M672.3146,-71.8901C668.9739,-63.0279 665.525,-53.8788 662.4386,-45.6913\"/>\n<polygon fill=\"#000000\" stroke=\"#000000\" points=\"665.6877,-44.3878 658.8853,-36.2651 659.1376,-46.8569 665.6877,-44.3878\"/>\n</g>\n<!-- 304 -->\n<g id=\"node19\" class=\"node\">\n<title>304</title>\n<path fill=\"#c0c0c0\" stroke=\"#000000\" d=\"M739,-36C739,-36 709,-36 709,-36 703,-36 697,-30 697,-24 697,-24 697,-12 697,-12 697,-6 703,0 709,0 709,0 739,0 739,0 745,0 751,-6 751,-12 751,-12 751,-24 751,-24 751,-30 745,-36 739,-36\"/>\n<text text-anchor=\"middle\" x=\"724\" y=\"-14.3\" font-family=\"Helvetica,sans-Serif\" font-size=\"14.00\" fill=\"#000000\">(...)</text>\n</g>\n<!-- 268&#45;&gt;304 -->\n<g id=\"edge18\" class=\"edge\">\n<title>268&#45;&gt;304</title>\n<path fill=\"none\" stroke=\"#000000\" d=\"M703.6854,-71.8901C707.0261,-63.0279 710.475,-53.8788 713.5614,-45.6913\"/>\n<polygon fill=\"#000000\" stroke=\"#000000\" points=\"716.8624,-46.8569 717.1147,-36.2651 710.3123,-44.3878 716.8624,-46.8569\"/>\n</g>\n</g>\n</svg>\n"
          },
          "metadata": {},
          "execution_count": 54
        }
      ]
    },
    {
      "cell_type": "code",
      "source": [
        "# rule based\n",
        "# Xtrain, Xtest, Ytrain, Ytest\n",
        "Xtrain_A = Xtrain.loc[Ytrain == 'A']\n",
        "Xtrain_B = Xtrain.loc[Ytrain == 'B']\n",
        "Xtrain_C = Xtrain.loc[Ytrain == 'C']\n",
        "print(Xtrain_A.shape)\n",
        "print(Xtrain_B.shape)\n",
        "print(Xtrain_C.shape)\n"
      ],
      "metadata": {
        "colab": {
          "base_uri": "https://localhost:8080/"
        },
        "id": "B6-bek5lZ6Hg",
        "outputId": "2192e4b2-4b43-4dbb-9b04-135c8985dc5e"
      },
      "execution_count": null,
      "outputs": [
        {
          "output_type": "stream",
          "name": "stdout",
          "text": [
            "(233, 5)\n",
            "(241, 5)\n",
            "(478, 5)\n"
          ]
        }
      ]
    },
    {
      "cell_type": "code",
      "source": [
        "def learn_one_rule(dataset):\n",
        "  rule = pandas.DataFrame(index=range(2), columns=range(5))\n",
        "  for i in range(5):\n",
        "    rule[i][0] = dataset[cols[i]].max()\n",
        "    rule[i][1] = dataset[cols[i]].min()\n",
        "  return rule\n",
        "\n",
        "ruleA = learn_one_rule(Xtrain_A)\n",
        "ruleB = learn_one_rule(Xtrain_B)\n",
        "ruleC = learn_one_rule(Xtrain_C)"
      ],
      "metadata": {
        "id": "0QAMV6n2lIIJ"
      },
      "execution_count": null,
      "outputs": []
    },
    {
      "cell_type": "code",
      "source": [
        "from numpy.ma.core import true_divide\n",
        "\n",
        "def apply_rule(test, ruleA, ruleB, ruleC):\n",
        "  conditions = [\n",
        "    ((test[cols[0]] >= ruleB[0][0]) | \n",
        "                (test[cols[1]] >= ruleB[1][0]) |\n",
        "                (test[cols[2]] >= ruleB[2][0]) |\n",
        "                (test[cols[3]] >= ruleB[3][0]) |\n",
        "                (test[cols[4]] >= ruleB[4][0]) ),\n",
        "    ((test[cols[0]] >= ruleC[0][0]) | \n",
        "                (test[cols[1]] >= ruleC[1][0]) |\n",
        "                (test[cols[2]] >= ruleC[2][0]) |\n",
        "                (test[cols[3]] >= ruleC[3][0]) |\n",
        "                (test[cols[4]] >= ruleC[4][0]) ),\n",
        "      True\n",
        "  ]\n",
        "  values = ['A','B','C']\n",
        "  test['performance'] = np.select(conditions, values)\n",
        "\n",
        "#apply the rule\n",
        "apply_rule(Xtest, ruleA, ruleB, ruleC)\n",
        "#calculate the accuracy\n",
        "accuracy_number = len(Xtest.loc[Ytest==Xtest['performance']])\n",
        "accuracy = accuracy_number / len(Xtest)\n",
        "print(accuracy)"
      ],
      "metadata": {
        "colab": {
          "base_uri": "https://localhost:8080/"
        },
        "id": "pCPBdcdDuX-4",
        "outputId": "cc7547a3-98b4-4309-91e4-ba21c7102a1f"
      },
      "execution_count": null,
      "outputs": [
        {
          "output_type": "stream",
          "name": "stdout",
          "text": [
            "0.7352941176470589\n"
          ]
        }
      ]
    }
  ]
}