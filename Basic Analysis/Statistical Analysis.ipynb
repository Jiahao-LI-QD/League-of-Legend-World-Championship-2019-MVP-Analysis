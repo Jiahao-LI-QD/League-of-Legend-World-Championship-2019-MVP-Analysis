{
  "nbformat": 4,
  "nbformat_minor": 0,
  "metadata": {
    "colab": {
      "name": "4412 phase2 task2.ipynb",
      "provenance": [],
      "collapsed_sections": []
    },
    "kernelspec": {
      "name": "python3",
      "display_name": "Python 3"
    },
    "language_info": {
      "name": "python"
    }
  },
  "cells": [
    {
      "cell_type": "code",
      "source": [
        "from google.colab import drive\n",
        "import pandas\n",
        "import matplotlib.pyplot as plt\n",
        "data_players = pandas.read_csv('/content/drive/MyDrive/4412/wc_players.csv')\n",
        "data_matches = pandas.read_csv('/content/drive/MyDrive/4412/wc_matches.csv')\n",
        "data_champions = pandas.read_csv('/content/drive/MyDrive/4412/wc_champions.csv')\n",
        "\n",
        "data_task2_1 = data_champions[['champion', 'sum_total', 'win_total', 'winrate_total']]\n",
        "\n",
        "data_task2_1['winrate_total'] = data_task2_1['winrate_total'].str.rstrip('%').astype('float') / 100.0\n",
        "data_task2_2 = data_matches['winner']\n",
        "\n",
        "\n",
        "# first create a new ordinal column called: \"strength\"\n",
        "# based on the op (over power)\n",
        "def strength (row):\n",
        "  if row['sum_total'] <= 20 :\n",
        "    return 'normal'\n",
        "  if row['winrate_total'] >= 0.6:\n",
        "    return 'T0'\n",
        "  if row['winrate_total'] >= 0.55:\n",
        "    return 'T1'\n",
        "  if row['winrate_total'] >= 0.52:\n",
        "    return 'T2'\n",
        "  if row['winrate_total'] >= 0.50:\n",
        "    return 'T3'\n",
        "  return 'normal'\n",
        "\n",
        "data_task2_1['strength'] = data_task2_1.apply (lambda row: strength(row), axis=1)\n"
      ],
      "metadata": {
        "colab": {
          "base_uri": "https://localhost:8080/"
        },
        "id": "g9XZGCbB52Au",
        "outputId": "70bbbf8c-d369-40d0-f6d4-c58774e323f4"
      },
      "execution_count": 4,
      "outputs": [
        {
          "output_type": "stream",
          "name": "stderr",
          "text": [
            "/usr/local/lib/python3.7/dist-packages/ipykernel_launcher.py:10: SettingWithCopyWarning: \n",
            "A value is trying to be set on a copy of a slice from a DataFrame.\n",
            "Try using .loc[row_indexer,col_indexer] = value instead\n",
            "\n",
            "See the caveats in the documentation: https://pandas.pydata.org/pandas-docs/stable/user_guide/indexing.html#returning-a-view-versus-a-copy\n",
            "  # Remove the CWD from sys.path while we load stuff.\n",
            "/usr/local/lib/python3.7/dist-packages/ipykernel_launcher.py:29: SettingWithCopyWarning: \n",
            "A value is trying to be set on a copy of a slice from a DataFrame.\n",
            "Try using .loc[row_indexer,col_indexer] = value instead\n",
            "\n",
            "See the caveats in the documentation: https://pandas.pydata.org/pandas-docs/stable/user_guide/indexing.html#returning-a-view-versus-a-copy\n"
          ]
        }
      ]
    },
    {
      "cell_type": "code",
      "source": [
        "csv_task2 = pandas.concat([data_task2_1, data_task2_2], axis=1) \n",
        "csv_task2.to_csv(\"/content/drive/MyDrive/4412/215632375-216263949-216374324-T2.csv\")\n",
        "\n",
        "# norminal data count how many times every tags happens\n",
        "# we can see the max number of type\n",
        "csv_task2['winner'].value_counts()"
      ],
      "metadata": {
        "colab": {
          "base_uri": "https://localhost:8080/"
        },
        "id": "Q8l06Cv5P1oD",
        "outputId": "fe64dc25-3ce3-42a3-845b-a4485cb7c03a"
      },
      "execution_count": 5,
      "outputs": [
        {
          "output_type": "execute_result",
          "data": {
            "text/plain": [
              "DAMWON Gaming          10\n",
              "Splyce                  8\n",
              "Griffin                 6\n",
              "SK Telecom T1           5\n",
              "G2 Esports              5\n",
              "FunPlus Phoenix         5\n",
              "Clutch Gaming           4\n",
              "Invictus Gaming         4\n",
              "Fnatic                  4\n",
              "Hong Kong Attitude      4\n",
              "Team Liquid             3\n",
              "J Team                  3\n",
              "Royal Never Give Up     3\n",
              "Unicorns Of Love        3\n",
              "Lowkey Esports          2\n",
              "Royal Youth             2\n",
              "Isurus                  2\n",
              "MAMMOTH                 2\n",
              "Cloud9                  2\n",
              "MEGA                    1\n",
              "Flamengo eSports        1\n",
              "DetonatioN FocusMe      1\n",
              "GAM Esports             1\n",
              "Name: winner, dtype: int64"
            ]
          },
          "metadata": {},
          "execution_count": 5
        }
      ]
    },
    {
      "cell_type": "code",
      "source": [
        "# ordinal count how many times every tags happens\n",
        "# we can see the max number of type\n",
        "csv_task2['strength'].value_counts()"
      ],
      "metadata": {
        "colab": {
          "base_uri": "https://localhost:8080/"
        },
        "id": "Wb9zHBfsWaCe",
        "outputId": "613e0f8a-474f-43fd-ead1-14941d4b6a59"
      },
      "execution_count": 6,
      "outputs": [
        {
          "output_type": "execute_result",
          "data": {
            "text/plain": [
              "normal    84\n",
              "T2         6\n",
              "T0         3\n",
              "T3         3\n",
              "T1         2\n",
              "Name: strength, dtype: int64"
            ]
          },
          "metadata": {},
          "execution_count": 6
        }
      ]
    },
    {
      "cell_type": "code",
      "source": [
        "# interval we can use describe() to get all the basic statistic information\n",
        "# we can see the max number of type\n",
        "csv_task2['sum_total'].describe()"
      ],
      "metadata": {
        "colab": {
          "base_uri": "https://localhost:8080/"
        },
        "id": "sA6Da4IpWuBs",
        "outputId": "70237e95-042b-493b-b887-bc0c5a03d037"
      },
      "execution_count": 7,
      "outputs": [
        {
          "output_type": "execute_result",
          "data": {
            "text/plain": [
              "count    98.000000\n",
              "mean     12.244898\n",
              "std      14.474336\n",
              "min       1.000000\n",
              "25%       2.000000\n",
              "50%       7.000000\n",
              "75%      15.750000\n",
              "max      71.000000\n",
              "Name: sum_total, dtype: float64"
            ]
          },
          "metadata": {},
          "execution_count": 7
        }
      ]
    },
    {
      "cell_type": "code",
      "source": [
        "# ratio we can use describe() to get all the basic statistic information\n",
        "# we can see the max number of type\n",
        "# we want to know how many champion has more than 50% winrate\n",
        "def greater_than50 (row):\n",
        "  if row['winrate_total'] > 0.5:\n",
        "    return 1\n",
        "  return 0\n",
        "\n",
        "print(csv_task2['winrate_total'].describe())\n",
        "print(\"total number of champion that has more than 50% winrate:\")\n",
        "sum(csv_task2.apply(lambda row: greater_than50(row), axis = 1))"
      ],
      "metadata": {
        "colab": {
          "base_uri": "https://localhost:8080/"
        },
        "id": "8cchNuRBXaZG",
        "outputId": "d2f69670-92de-4fd7-9bc8-e0d09332d21e"
      },
      "execution_count": 8,
      "outputs": [
        {
          "output_type": "stream",
          "name": "stdout",
          "text": [
            "count    98.000000\n",
            "mean      0.438776\n",
            "std       0.271769\n",
            "min       0.000000\n",
            "25%       0.315000\n",
            "50%       0.500000\n",
            "75%       0.567500\n",
            "max       1.000000\n",
            "Name: winrate_total, dtype: float64\n",
            "total number of champion that has more than 50% winrate:\n"
          ]
        },
        {
          "output_type": "execute_result",
          "data": {
            "text/plain": [
              "36"
            ]
          },
          "metadata": {},
          "execution_count": 8
        }
      ]
    }
  ]
}